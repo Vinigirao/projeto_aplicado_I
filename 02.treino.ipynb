{
 "cells": [
  {
   "cell_type": "markdown",
   "metadata": {},
   "source": [
    "Este arquivo é utilizadp para treinar o modelo"
   ]
  },
  {
   "cell_type": "code",
   "execution_count": null,
   "metadata": {},
   "outputs": [],
   "source": [
    "import tensorflow as tf\n",
    "from tensorflow.keras.preprocessing.image import ImageDataGenerator\n",
    "from tensorflow.keras.layers import Conv2D, MaxPooling2D, Flatten, Dense\n",
    "from tensorflow.keras.models import Sequential"
   ]
  },
  {
   "cell_type": "code",
   "execution_count": 1,
   "metadata": {},
   "outputs": [
    {
     "name": "stdout",
     "output_type": "stream",
     "text": [
      "Found 3380 images belonging to 4 classes.\n",
      "Found 281 images belonging to 4 classes.\n",
      "Epoch 1/3\n",
      "106/106 [==============================] - 52s 477ms/step - loss: 0.5615 - accuracy: 0.7142 - val_loss: 0.4001 - val_accuracy: 0.8434\n",
      "Epoch 2/3\n",
      "106/106 [==============================] - 57s 533ms/step - loss: 0.3989 - accuracy: 0.8213 - val_loss: 0.3445 - val_accuracy: 0.8577\n",
      "Epoch 3/3\n",
      "106/106 [==============================] - 57s 536ms/step - loss: 0.3698 - accuracy: 0.8488 - val_loss: 0.3796 - val_accuracy: 0.8470\n"
     ]
    }
   ],
   "source": [
    "\n",
    "# Defina os parâmetros\n",
    "batch_size = 32\n",
    "epochs = 3\n",
    "image_size = (128, 128)\n",
    "\n",
    "# Crie geradores de dados para treinamento e validação\n",
    "train_datagen = ImageDataGenerator(\n",
    "    rescale=1.0/255.0,\n",
    "    shear_range=0.2,\n",
    "    zoom_range=0.2,\n",
    "    horizontal_flip=True,\n",
    "    validation_split=0.2  # Define a fração de validação\n",
    ")\n",
    "\n",
    "train_generator = train_datagen.flow_from_directory(\n",
    "    'data/train',\n",
    "    target_size=image_size,\n",
    "    batch_size=batch_size,\n",
    "    class_mode='categorical',  # Use 'categorical' para classificação multiclasse\n",
    "    subset='training'\n",
    ")\n",
    "\n",
    "validation_generator = train_datagen.flow_from_directory(\n",
    "    'data/test',\n",
    "    target_size=image_size,\n",
    "    batch_size=batch_size,\n",
    "    class_mode='categorical',\n",
    "    subset='validation'\n",
    ")\n",
    "\n",
    "# Crie o modelo\n",
    "model = Sequential()\n",
    "model.add(Conv2D(32, (3, 3), activation='relu', input_shape=(128, 128, 3)))\n",
    "model.add(MaxPooling2D((2, 2)))\n",
    "model.add(Conv2D(64, (3, 3), activation='relu'))\n",
    "model.add(MaxPooling2D((2, 2)))\n",
    "model.add(Conv2D(128, (3, 3), activation='relu'))\n",
    "model.add(MaxPooling2D((2, 2)))\n",
    "model.add(Flatten())\n",
    "model.add(Dense(128, activation='relu'))\n",
    "model.add(Dense(4, activation='softmax'))  # 4 classes: floresta, deserto, nuvens, água\n",
    "\n",
    "# Compile o modelo\n",
    "model.compile(optimizer='adam',\n",
    "              loss='categorical_crossentropy',\n",
    "              metrics=['accuracy'])\n",
    "\n",
    "# Treine o modelo\n",
    "model.fit(train_generator, epochs=epochs, validation_data=validation_generator)\n",
    "\n",
    "# Salve o modelo treinado\n",
    "model.save('image_classification_model.h5')\n"
   ]
  }
 ],
 "metadata": {
  "kernelspec": {
   "display_name": "base",
   "language": "python",
   "name": "python3"
  },
  "language_info": {
   "codemirror_mode": {
    "name": "ipython",
    "version": 3
   },
   "file_extension": ".py",
   "mimetype": "text/x-python",
   "name": "python",
   "nbconvert_exporter": "python",
   "pygments_lexer": "ipython3",
   "version": "3.7.6"
  },
  "orig_nbformat": 4
 },
 "nbformat": 4,
 "nbformat_minor": 2
}
