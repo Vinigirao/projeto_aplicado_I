{
 "cells": [
  {
   "cell_type": "markdown",
   "metadata": {},
   "source": [
    "Este arquivo é utilizado para preparação dos dados e separação das imagens de treino e teste"
   ]
  },
  {
   "cell_type": "code",
   "execution_count": 19,
   "metadata": {},
   "outputs": [],
   "source": [
    "import os \n",
    "import numpy as np\n",
    "import tensorflow as tf\n",
    "import shutil"
   ]
  },
  {
   "cell_type": "code",
   "execution_count": 20,
   "metadata": {},
   "outputs": [],
   "source": [
    "from tensorflow.keras.preprocessing.image import ImageDataGenerator\n",
    "from tensorflow.keras.models import Sequential\n",
    "from tensorflow.keras.layers import Conv2D, MaxPooling2D\n",
    "from tensorflow.keras.layers import Activation, Dropout, Flatten, Dense, Dropout\n",
    "\n"
   ]
  },
  {
   "cell_type": "code",
   "execution_count": 21,
   "metadata": {},
   "outputs": [],
   "source": [
    "# classe = 'water'\n",
    "\n",
    "# diretorio = f'data/train/{classe}'\n",
    "\n",
    "# caminhos = []\n",
    "\n",
    "# #percorre cada arquivo do diretorio\n",
    "# for root, dirs, files in os.walk(diretorio):\n",
    "#     for arquivo in files:\n",
    "#         caminho_completo = os.path.join(root, arquivo)\n",
    "\n",
    "#         caminhos.append(caminho_completo)\n",
    "       \n",
    "\n",
    "# diretorio_destino = f'data/test/{classe}'\n",
    "\n",
    "# n = int(len(caminhos)/4)\n",
    "\n",
    "# for caminho in caminhos[:n]:\n",
    "#     shutil.move(caminho, diretorio_destino)\n",
    "\n"
   ]
  },
  {
   "cell_type": "code",
   "execution_count": null,
   "metadata": {},
   "outputs": [],
   "source": []
  }
 ],
 "metadata": {
  "kernelspec": {
   "display_name": "base",
   "language": "python",
   "name": "python3"
  },
  "language_info": {
   "codemirror_mode": {
    "name": "ipython",
    "version": 3
   },
   "file_extension": ".py",
   "mimetype": "text/x-python",
   "name": "python",
   "nbconvert_exporter": "python",
   "pygments_lexer": "ipython3",
   "version": "3.7.6"
  },
  "orig_nbformat": 4
 },
 "nbformat": 4,
 "nbformat_minor": 2
}
